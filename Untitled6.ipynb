{
  "nbformat": 4,
  "nbformat_minor": 0,
  "metadata": {
    "colab": {
      "provenance": [],
      "authorship_tag": "ABX9TyOzfUBOLTu78ObJhoXjb9n4",
      "include_colab_link": true
    },
    "kernelspec": {
      "name": "python3",
      "display_name": "Python 3"
    },
    "language_info": {
      "name": "python"
    }
  },
  "cells": [
    {
      "cell_type": "markdown",
      "metadata": {
        "id": "view-in-github",
        "colab_type": "text"
      },
      "source": [
        "<a href=\"https://colab.research.google.com/github/kneat2448/PDAI-mbti/blob/main/Untitled6.ipynb\" target=\"_parent\"><img src=\"https://colab.research.google.com/assets/colab-badge.svg\" alt=\"Open In Colab\"/></a>"
      ]
    },
    {
      "cell_type": "markdown",
      "source": [
        "# Testing area "
      ],
      "metadata": {
        "id": "RRoT5haADDfk"
      }
    },
    {
      "cell_type": "code",
      "source": [
        "!pip install --upgrade gspread"
      ],
      "metadata": {
        "id": "k8mWXyZCDIBc"
      },
      "execution_count": null,
      "outputs": []
    },
    {
      "cell_type": "code",
      "source": [
        "from google.colab import auth\n",
        "auth.authenticate_user()\n",
        "import gspread\n",
        "from google.auth import default\n",
        "creds, _ = default()\n",
        "gc = gspread.authorize(creds)\n",
        "import pandas as pd\n",
        "import xgboost as xgb\n",
        "from sklearn.datasets import make_classification\n",
        "from sklearn.model_selection import train_test_split\n",
        "import pickle as pkl\n",
        "from pydrive.auth import GoogleAuth\n",
        "from pydrive.drive import GoogleDrive\n",
        "from google.colab import auth\n",
        "from oauth2client.client import GoogleCredentials"
      ],
      "metadata": {
        "id": "mhqBu0oYDPxi"
      },
      "execution_count": null,
      "outputs": []
    },
    {
      "cell_type": "code",
      "source": [
        "model.fit(x_train, y_train)"
      ],
      "metadata": {
        "id": "oYFKM70FDX40"
      },
      "execution_count": null,
      "outputs": []
    },
    {
      "cell_type": "code",
      "source": [
        "worksheet = gc.open('Questionnaire - MBTI (Responses)').sheet1\n",
        "responses = worksheeet.get_all_values()\n",
        "data = pd.dataFrame(responses[1:],columns=responses[0])"
      ],
      "metadata": {
        "id": "A7CFPDUWDdRV"
      },
      "execution_count": null,
      "outputs": []
    },
    {
      "cell_type": "code",
      "source": [
        "worksheet = gc.open('Questionnaire - MBTI(Responses)').sheet1\n",
        "responses = worksheet.get_all_values()\n",
        "data = pd.DataFrame(responses[1:], columns=responses[0])\n",
        "\n",
        "for r inrange in range(len(data)):\n",
        "  my_posts = \"\".join(data.loc[r].values)\n",
        "\n",
        "  mydata = pd.DataFrame(data={'type' : ['INFJ'],'posts': [my_posts]})\n",
        "\n",
        "  my_posts, dummy = pre_process_text(mydata, remove_stop_words+True, remove_mbti_profiles=True)\n",
        "  \n",
        "  my_X_cnt = cntizer.transform(my_posts)\n",
        "  my_X_tfidf =  tfizer.transform(my_X_cnt).toarray()\n",
        "  result = [] \n",
        "\n",
        "  for l in range(len(persnality_type)):\n",
        "\n",
        "    y_pred = model.predict(my_X_tifidf)\n",
        "    result.append(y_pred[0])\n",
        "\n",
        "    pers = translate_back(result)\n"
      ],
      "metadata": {
        "id": "DoWd7Jw-EL1_"
      },
      "execution_count": null,
      "outputs": []
    }
  ]
}